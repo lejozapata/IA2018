{
 "metadata": {
  "name": "",
  "signature": "sha256:1b1eb45a395660d04f1a644bfcab0630d9e6e7f427a48fa1eabab0e91f90f830"
 },
 "nbformat": 3,
 "nbformat_minor": 0,
 "worksheets": [
  {
   "cells": [
    {
     "cell_type": "heading",
     "level": 1,
     "metadata": {},
     "source": [
     
      "TRABAJO 1"
     ]
    },
    {
     "cell_type": "markdown",
     "metadata": {},
     "source": [
      "Integrantes:\n",
      "<br>\n",
      "**Alejandro Zapata Lopera**\n",
      "<br>\n",
      "**Giovanny Arango**\n",
        "<br>\n",
        "<br>\n",
      "**PROBLEMA 1**",
      "<br>\n",
       "Sin Solución\n",
      "<br>\n",
       "<br>\n",
       "**PROBLEMA 2**",
       "<br>\n",
       "<br>\n",
       "**Estado Inicial:** 3 Caníbales y 3 Misioneros del lado inicial del río \n",
       "<br>\n",
       "**Función Secuencia:** f([3M,3C,1,0M,0C])= [3M,1C,0,2C,0] \n",
       "<br>\n",
       "Dicho de otra manera, f(3 Misioneros, 3 Canibales, 1 Barca, Y Cero Personas del Otro Lado) = (3 Misioneros, 1 Canibal, 0 Barca, 2 Canibales, 0 Misioneros. Quiere decir que acabo de mover al otro lado dos Canibales y la barca\n",
      "<br>\n",
       "**Estado Objetivo:** Llevar al lado destino del río a 3 caníbales y 3 misioneros\n",
       "<br>\n",
       "**Costo:** Cantidad de viajes realizados\n",
       "<br>\n",
       "<br>\n",
       "**ANALIZAR Y DISCUTIR**",
       "<br>\n",
       "<br>\n",
       "El sistema ideado por Valve es un sistema de búsqueda realizando caminos por mallas en la primera diapositiva vemos como la búsqueda se realiza recorriendo un patrón de bloques dentro de la malla para que esta búsqueda parezca realista dentro del juego, ya que si se hace una búsqueda directa como el mismo autor lo plantea se volvería robótico para el jugador. Sin embargo este modelo está ligado directamente a la optimización, cada recorrido es un módulo de aprendizaje para el sistema. Como aplicación podría servir para georeferenciar peatones a moverse dentro de una ciudad, optimizando los caminos que deben tomar para llegar a un destino."
   
     ]
    },
    {
     "cell_type": "heading",
     "level": 6,
     "metadata": {},
     "source": [
      "<hr>"
     ]
    }
   ],
   "metadata": {}
  }
 ]
}
